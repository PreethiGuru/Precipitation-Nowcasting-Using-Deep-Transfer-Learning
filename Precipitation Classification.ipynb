{
 "cells": [
  {
   "cell_type": "code",
   "execution_count": 1,
   "metadata": {},
   "outputs": [
    {
     "name": "stdout",
     "output_type": "stream",
     "text": [
      "Requirement already satisfied: h5py in c:\\users\\admin\\appdata\\roaming\\python\\python38\\site-packages (2.10.0)\n",
      "Requirement already satisfied: numpy>=1.7 in c:\\users\\admin\\anaconda3\\lib\\site-packages (from h5py) (1.23.3)\n",
      "Requirement already satisfied: six in c:\\users\\admin\\anaconda3\\lib\\site-packages (from h5py) (1.15.0)\n",
      "Note: you may need to restart the kernel to use updated packages.\n"
     ]
    }
   ],
   "source": [
    "%pip install h5py"
   ]
  },
  {
   "cell_type": "code",
   "execution_count": 1,
   "metadata": {},
   "outputs": [
    {
     "name": "stderr",
     "output_type": "stream",
     "text": [
      "c:\\Users\\Admin\\anaconda3\\lib\\site-packages\\requests\\__init__.py:89: RequestsDependencyWarning: urllib3 (1.26.12) or chardet (3.0.4) doesn't match a supported version!\n",
      "  warnings.warn(\"urllib3 ({}) or chardet ({}) doesn't match a supported \"\n",
      "c:\\Users\\Admin\\anaconda3\\lib\\site-packages\\scipy\\__init__.py:146: UserWarning: A NumPy version >=1.16.5 and <1.23.0 is required for this version of SciPy (detected version 1.23.3\n",
      "  warnings.warn(f\"A NumPy version >={np_minversion} and <{np_maxversion}\"\n"
     ]
    }
   ],
   "source": [
    "import tensorflow as tf\n",
    "import tensorflow.keras.layers as tfl\n",
    "#import tensorflow_datasets as tfds\n",
    "from tensorflow.keras.preprocessing import image_dataset_from_directory\n",
    "from tensorflow.keras.models import Sequential\n",
    "from tensorflow.keras.layers import Dense, Dropout, Activation, Flatten, Conv2D, MaxPooling2D\n",
    "from tensorflow.keras.preprocessing.image import ImageDataGenerator"
   ]
  },
  {
   "cell_type": "code",
   "execution_count": 19,
   "metadata": {},
   "outputs": [
    {
     "name": "stdout",
     "output_type": "stream",
     "text": [
      "Model: \"sequential_5\"\n",
      "_________________________________________________________________\n",
      "Layer (type)                 Output Shape              Param #   \n",
      "=================================================================\n",
      "conv2d_21 (Conv2D)           (None, 18, 18, 200)       200200    \n",
      "_________________________________________________________________\n",
      "max_pooling2d_21 (MaxPooling (None, 9, 9, 200)         0         \n",
      "_________________________________________________________________\n",
      "conv2d_22 (Conv2D)           (None, 9, 9, 200)         1000200   \n",
      "_________________________________________________________________\n",
      "max_pooling2d_22 (MaxPooling (None, 5, 5, 200)         0         \n",
      "_________________________________________________________________\n",
      "conv2d_23 (Conv2D)           (None, 5, 5, 400)         720400    \n",
      "_________________________________________________________________\n",
      "max_pooling2d_23 (MaxPooling (None, 3, 3, 400)         0         \n",
      "_________________________________________________________________\n",
      "flatten_1 (Flatten)          (None, 3600)              0         \n",
      "_________________________________________________________________\n",
      "dense_3 (Dense)              (None, 400)               1440400   \n",
      "_________________________________________________________________\n",
      "dense_4 (Dense)              (None, 2)                 802       \n",
      "=================================================================\n",
      "Total params: 3,362,002\n",
      "Trainable params: 3,362,002\n",
      "Non-trainable params: 0\n",
      "_________________________________________________________________\n"
     ]
    }
   ],
   "source": [
    "#model.summary()"
   ]
  },
  {
   "cell_type": "code",
   "execution_count": 2,
   "metadata": {},
   "outputs": [
    {
     "name": "stdout",
     "output_type": "stream",
     "text": [
      "Found 3895 files belonging to 2 classes.\n",
      "Using 3116 files for training.\n",
      "Found 3895 files belonging to 2 classes.\n",
      "Using 779 files for validation.\n",
      "WARNING:tensorflow:From <ipython-input-2-0467cc0ec426>:43: Model.fit_generator (from tensorflow.python.keras.engine.training) is deprecated and will be removed in a future version.\n",
      "Instructions for updating:\n",
      "Please use Model.fit, which supports generators.\n",
      "Epoch 1/5\n",
      "76/76 [==============================] - ETA: 0s - loss: 595.5771 - accuracy: 0.8774  WARNING:tensorflow:Your input ran out of data; interrupting training. Make sure that your dataset or generator can generate at least `steps_per_epoch * epochs` batches (in this case, 779 batches). You may need to use the repeat() function when building your dataset.\n",
      "76/76 [==============================] - 5943s 78s/step - loss: 595.5771 - accuracy: 0.8774 - val_loss: 0.1254 - val_accuracy: 0.9692\n",
      "Epoch 2/5\n",
      "76/76 [==============================] - 4804s 63s/step - loss: 0.0401 - accuracy: 0.9949\n",
      "Epoch 3/5\n",
      "76/76 [==============================] - 4926s 65s/step - loss: 0.0337 - accuracy: 0.9952\n",
      "Epoch 4/5\n",
      "76/76 [==============================] - 4721s 62s/step - loss: 0.0127 - accuracy: 0.9987\n",
      "Epoch 5/5\n",
      "76/76 [==============================] - 4792s 63s/step - loss: 0.0315 - accuracy: 0.9958\n"
     ]
    }
   ],
   "source": [
    "model = Sequential()\n",
    "model.add(Conv2D(200, 5, (1, 1), padding='same', input_shape=(432, 360, 3)))\n",
    "model.add(Activation('relu'))\n",
    "model.add(MaxPooling2D(pool_size=(2, 2), strides = (2,2), padding = 'same'))\n",
    "model.add(Conv2D(200, 5, (1, 1), padding='same', input_shape=(432, 360, 3)))\n",
    "model.add(Activation('relu'))\n",
    "model.add(MaxPooling2D(pool_size=(2, 2), strides = (2,2), padding = 'same'))\n",
    "model.add(Conv2D(400, 3, (1, 1), padding='same', input_shape=(269, 273, 3)))\n",
    "model.add(Activation('relu'))\n",
    "model.add(MaxPooling2D(pool_size=(2, 2), strides = (2,2), padding = 'same'))\n",
    "model.add(Flatten())\n",
    "model.add(Dense(40))\n",
    "model.add(Activation('relu'))\n",
    "model.add(Flatten())\n",
    "model.add(Dense(1, activation=Activation('sigmoid')))\n",
    "\n",
    "model.compile(optimizer='adam', loss='binary_crossentropy', metrics=['accuracy'])\n",
    "\n",
    "train_data = ImageDataGenerator(rescale=1./255)\n",
    "test_data = ImageDataGenerator(rescale=1./255)\n",
    "\n",
    "data_dir = r\"D:\\College\\UG-3\\Sem 6\\BTP\\Dataset\\Sem 7 Mid\\Final Data\\\\\"\n",
    "training_set = image_dataset_from_directory(\n",
    "  data_dir,\n",
    "  validation_split=0.2,\n",
    "  subset=\"training\",\n",
    "  seed=123,\n",
    "  image_size=(432,360),\n",
    "  batch_size=41)\n",
    "\n",
    "test_set = image_dataset_from_directory(\n",
    "  data_dir,\n",
    "  validation_split=0.2,\n",
    "  subset=\"validation\",\n",
    "  seed=123,\n",
    "  image_size=(432,360),\n",
    "  batch_size=19)\n",
    "\n",
    "fitgen = model.fit_generator(training_set, steps_per_epoch=76, epochs=5, validation_data=test_set, validation_steps=779)"
   ]
  },
  {
   "cell_type": "code",
   "execution_count": 3,
   "metadata": {},
   "outputs": [
    {
     "name": "stdout",
     "output_type": "stream",
     "text": [
      "Saved model to disk\n"
     ]
    }
   ],
   "source": [
    "model.save(\"model.h5\")\n",
    "print(\"Saved model to disk\")"
   ]
  },
  {
   "cell_type": "code",
   "execution_count": 4,
   "metadata": {},
   "outputs": [
    {
     "name": "stdout",
     "output_type": "stream",
     "text": [
      "Found 1785 files belonging to 2 classes.\n",
      "Using 1428 files for training.\n",
      "Found 1785 files belonging to 2 classes.\n",
      "Using 357 files for validation.\n",
      "Epoch 1/10\n",
      "84/84 [==============================] - ETA: 0s - loss: 0.8904 - accuracy: 0.8473 WARNING:tensorflow:Your input ran out of data; interrupting training. Make sure that your dataset or generator can generate at least `steps_per_epoch * epochs` batches (in this case, 357 batches). You may need to use the repeat() function when building your dataset.\n",
      "84/84 [==============================] - 2157s 26s/step - loss: 0.8904 - accuracy: 0.8473 - val_loss: 0.3693 - val_accuracy: 0.8824\n",
      "Epoch 2/10\n",
      "84/84 [==============================] - 2049s 24s/step - loss: 0.4254 - accuracy: 0.8536\n",
      "Epoch 3/10\n",
      "84/84 [==============================] - 2034s 24s/step - loss: 0.4206 - accuracy: 0.8536\n",
      "Epoch 4/10\n",
      "84/84 [==============================] - 2018s 24s/step - loss: 0.4233 - accuracy: 0.8536\n",
      "Epoch 5/10\n",
      "84/84 [==============================] - 2026s 24s/step - loss: 0.4201 - accuracy: 0.8536\n",
      "Epoch 6/10\n",
      "84/84 [==============================] - 1995s 24s/step - loss: 0.4259 - accuracy: 0.8536\n",
      "Epoch 7/10\n",
      "84/84 [==============================] - 2021s 24s/step - loss: 0.4269 - accuracy: 0.8536\n",
      "Epoch 8/10\n",
      "84/84 [==============================] - 1981s 24s/step - loss: 0.4228 - accuracy: 0.8536\n",
      "Epoch 9/10\n",
      "84/84 [==============================] - 1966s 23s/step - loss: 0.4207 - accuracy: 0.8536\n",
      "Epoch 10/10\n",
      "84/84 [==============================] - 1973s 23s/step - loss: 0.4245 - accuracy: 0.8536\n"
     ]
    }
   ],
   "source": [
    "model_new = Sequential()\n",
    "model_new.add(Conv2D(200, 5, (1, 1), padding='same', input_shape=(432, 360, 3)))\n",
    "model_new.add(Activation('relu'))\n",
    "model_new.add(MaxPooling2D(pool_size=(2, 2), strides = (2,2), padding = 'same'))\n",
    "model_new.add(Conv2D(200, 5, (1, 1), padding='same', input_shape=(432, 360, 3)))\n",
    "model_new.add(Activation('relu'))\n",
    "model_new.add(MaxPooling2D(pool_size=(2, 2), strides = (2,2), padding = 'same'))\n",
    "model_new.add(Conv2D(400, 3, (1, 1), padding='same', input_shape=(269, 273, 3)))\n",
    "model_new.add(Activation('relu'))\n",
    "model_new.add(MaxPooling2D(pool_size=(2, 2), strides = (2,2), padding = 'same'))\n",
    "model_new.add(Flatten())\n",
    "model_new.add(Dense(40))\n",
    "model_new.add(Activation('relu'))\n",
    "model_new.add(Flatten())\n",
    "model_new.add(Dense(1, activation=Activation('sigmoid')))\n",
    "model_new.load_weights(\"model.h5\")\n",
    "model_new.compile(optimizer='adam', loss='binary_crossentropy', metrics=['accuracy'])\n",
    "\n",
    "train_data = ImageDataGenerator(rescale=1./255)\n",
    "test_data = ImageDataGenerator(rescale=1./255)\n",
    "\n",
    "data_dir = r\"D:\\College\\UG-3\\Sem 6\\BTP\\Dataset\\Sem 7 End\\\\\"\n",
    "training_set = image_dataset_from_directory(\n",
    "  data_dir,\n",
    "  validation_split=0.2,\n",
    "  subset=\"training\",\n",
    "  seed=123,\n",
    "  image_size=(432,360),\n",
    "  batch_size=17)\n",
    "\n",
    "test_set = image_dataset_from_directory(\n",
    "  data_dir,\n",
    "  validation_split=0.2,\n",
    "  subset=\"validation\",\n",
    "  seed=123,\n",
    "  image_size=(432,360),\n",
    "  batch_size=17)\n",
    "\n",
    "fitgen = model_new.fit_generator(training_set, steps_per_epoch=84, epochs=10, validation_data=test_set, validation_steps=357)"
   ]
  },
  {
   "cell_type": "code",
   "execution_count": 6,
   "metadata": {},
   "outputs": [
    {
     "name": "stdout",
     "output_type": "stream",
     "text": [
      "Saved model to disk\n"
     ]
    }
   ],
   "source": [
    "model_new.save(\"model.h5\")\n",
    "print(\"Saved model to disk\")"
   ]
  },
  {
   "cell_type": "code",
   "execution_count": null,
   "metadata": {},
   "outputs": [],
   "source": [
    "\"\"\"\n",
    "model = tf.keras.Sequential(\n",
    "    [\n",
    "    tfl.Conv2D(filters = 200, kernel_size = 5, padding = 'same', strides=1, activation = 'relu', input_shape=(18, 18, 40)),\n",
    "    tfl.MaxPool2D(pool_size = (2,2), strides = (2,2), padding = 'same'),\n",
    "    tfl.Conv2D(filters = 200, kernel_size = 5, padding = 'same', strides=1, activation = 'relu'),\n",
    "    tfl.MaxPool2D(pool_size = (2,2), strides = (2,2), padding = 'same'),\n",
    "    tfl.Conv2D(filters = 400, kernel_size = 3, padding = 'same', strides=1, activation = 'relu'),\n",
    "    tfl.MaxPool2D(pool_size = (2,2), strides = (2,2), padding = 'same'),\n",
    "    tfl.Flatten(),\n",
    "    tfl.Dense(units = 400, activation = 'relu'),\n",
    "    tfl.Dense(units = 2, activation = 'softmax')    \n",
    "    ]\n",
    ")\n",
    "\"\"\""
   ]
  }
 ],
 "metadata": {
  "kernelspec": {
   "display_name": "Python 3.8.3 ('base')",
   "language": "python",
   "name": "python3"
  },
  "language_info": {
   "codemirror_mode": {
    "name": "ipython",
    "version": 3
   },
   "file_extension": ".py",
   "mimetype": "text/x-python",
   "name": "python",
   "nbconvert_exporter": "python",
   "pygments_lexer": "ipython3",
   "version": "3.8.3"
  },
  "vscode": {
   "interpreter": {
    "hash": "2043299c89c8cd0b4d1a6f5cf4529bd58e6a4e0fe3181a25e0d328c821cdc5c5"
   }
  }
 },
 "nbformat": 4,
 "nbformat_minor": 4
}
