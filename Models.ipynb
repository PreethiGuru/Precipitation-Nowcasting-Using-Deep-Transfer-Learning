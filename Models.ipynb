{
  "cells": [
    {
      "cell_type": "code",
      "execution_count": null,
      "metadata": {
        "colab": {
          "base_uri": "https://localhost:8080/",
          "height": 983
        },
        "id": "zfG04piHYgH4",
        "outputId": "4a6dbbf5-6f37-446e-856a-af4c8263b945"
      },
      "outputs": [
        {
          "name": "stdout",
          "output_type": "stream",
          "text": [
            "Looking in indexes: https://pypi.org/simple, https://us-python.pkg.dev/colab-wheels/public/simple/\n",
            "Collecting metpy\n",
            "  Downloading MetPy-1.3.1-py3-none-any.whl (368 kB)\n",
            "\u001b[K     |████████████████████████████████| 368 kB 4.4 MB/s \n",
            "\u001b[?25hCollecting pyproj>=2.5.0\n",
            "  Downloading pyproj-3.4.0-cp38-cp38-manylinux_2_17_x86_64.manylinux2014_x86_64.whl (7.8 MB)\n",
            "\u001b[K     |████████████████████████████████| 7.8 MB 97.5 MB/s \n",
            "\u001b[?25hRequirement already satisfied: pandas>=1.0.0 in /usr/local/lib/python3.8/dist-packages (from metpy) (1.3.5)\n",
            "Requirement already satisfied: pooch>=1.2.0 in /usr/local/lib/python3.8/dist-packages (from metpy) (1.6.0)\n",
            "Collecting matplotlib>=3.3.0\n",
            "  Downloading matplotlib-3.6.2-cp38-cp38-manylinux_2_12_x86_64.manylinux2010_x86_64.whl (9.4 MB)\n",
            "\u001b[K     |████████████████████████████████| 9.4 MB 66.9 MB/s \n",
            "\u001b[?25hRequirement already satisfied: numpy>=1.18.0 in /usr/local/lib/python3.8/dist-packages (from metpy) (1.21.6)\n",
            "Requirement already satisfied: xarray>=0.14.1 in /usr/local/lib/python3.8/dist-packages (from metpy) (0.20.2)\n",
            "Requirement already satisfied: importlib-resources>=1.3.0 in /usr/local/lib/python3.8/dist-packages (from metpy) (5.10.0)\n",
            "Requirement already satisfied: scipy>=1.4.0 in /usr/local/lib/python3.8/dist-packages (from metpy) (1.7.3)\n",
            "Requirement already satisfied: traitlets>=4.3.0 in /usr/local/lib/python3.8/dist-packages (from metpy) (5.6.0)\n",
            "Collecting pint>=0.10.1\n",
            "  Downloading Pint-0.20.1-py3-none-any.whl (269 kB)\n",
            "\u001b[K     |████████████████████████████████| 269 kB 78.7 MB/s \n",
            "\u001b[?25hRequirement already satisfied: zipp>=3.1.0 in /usr/local/lib/python3.8/dist-packages (from importlib-resources>=1.3.0->metpy) (3.11.0)\n",
            "Requirement already satisfied: python-dateutil>=2.7 in /usr/local/lib/python3.8/dist-packages (from matplotlib>=3.3.0->metpy) (2.8.2)\n",
            "Requirement already satisfied: packaging>=20.0 in /usr/local/lib/python3.8/dist-packages (from matplotlib>=3.3.0->metpy) (21.3)\n",
            "Requirement already satisfied: pillow>=6.2.0 in /usr/local/lib/python3.8/dist-packages (from matplotlib>=3.3.0->metpy) (7.1.2)\n",
            "Collecting contourpy>=1.0.1\n",
            "  Downloading contourpy-1.0.6-cp38-cp38-manylinux_2_17_x86_64.manylinux2014_x86_64.whl (295 kB)\n",
            "\u001b[K     |████████████████████████████████| 295 kB 84.9 MB/s \n",
            "\u001b[?25hRequirement already satisfied: pyparsing>=2.2.1 in /usr/local/lib/python3.8/dist-packages (from matplotlib>=3.3.0->metpy) (3.0.9)\n",
            "Collecting fonttools>=4.22.0\n",
            "  Downloading fonttools-4.38.0-py3-none-any.whl (965 kB)\n",
            "\u001b[K     |████████████████████████████████| 965 kB 72.9 MB/s \n",
            "\u001b[?25hRequirement already satisfied: cycler>=0.10 in /usr/local/lib/python3.8/dist-packages (from matplotlib>=3.3.0->metpy) (0.11.0)\n",
            "Requirement already satisfied: kiwisolver>=1.0.1 in /usr/local/lib/python3.8/dist-packages (from matplotlib>=3.3.0->metpy) (1.4.4)\n",
            "Requirement already satisfied: pytz>=2017.3 in /usr/local/lib/python3.8/dist-packages (from pandas>=1.0.0->metpy) (2022.6)\n",
            "Requirement already satisfied: appdirs>=1.3.0 in /usr/local/lib/python3.8/dist-packages (from pooch>=1.2.0->metpy) (1.4.4)\n",
            "Requirement already satisfied: requests>=2.19.0 in /usr/local/lib/python3.8/dist-packages (from pooch>=1.2.0->metpy) (2.23.0)\n",
            "Requirement already satisfied: certifi in /usr/local/lib/python3.8/dist-packages (from pyproj>=2.5.0->metpy) (2022.9.24)\n",
            "Requirement already satisfied: six>=1.5 in /usr/local/lib/python3.8/dist-packages (from python-dateutil>=2.7->matplotlib>=3.3.0->metpy) (1.15.0)\n",
            "Requirement already satisfied: chardet<4,>=3.0.2 in /usr/local/lib/python3.8/dist-packages (from requests>=2.19.0->pooch>=1.2.0->metpy) (3.0.4)\n",
            "Requirement already satisfied: urllib3!=1.25.0,!=1.25.1,<1.26,>=1.21.1 in /usr/local/lib/python3.8/dist-packages (from requests>=2.19.0->pooch>=1.2.0->metpy) (1.24.3)\n",
            "Requirement already satisfied: idna<3,>=2.5 in /usr/local/lib/python3.8/dist-packages (from requests>=2.19.0->pooch>=1.2.0->metpy) (2.10)\n",
            "Installing collected packages: fonttools, contourpy, pyproj, pint, matplotlib, metpy\n",
            "  Attempting uninstall: matplotlib\n",
            "    Found existing installation: matplotlib 3.2.2\n",
            "    Uninstalling matplotlib-3.2.2:\n",
            "      Successfully uninstalled matplotlib-3.2.2\n",
            "Successfully installed contourpy-1.0.6 fonttools-4.38.0 matplotlib-3.6.2 metpy-1.3.1 pint-0.20.1 pyproj-3.4.0\n"
          ]
        },
        {
          "data": {
            "application/vnd.colab-display-data+json": {
              "pip_warning": {
                "packages": [
                  "matplotlib",
                  "mpl_toolkits"
                ]
              }
            }
          },
          "metadata": {},
          "output_type": "display_data"
        }
      ],
      "source": [
        "!pip install metpy"
      ]
    },
    {
      "cell_type": "code",
      "execution_count": null,
      "metadata": {
        "colab": {
          "base_uri": "https://localhost:8080/"
        },
        "id": "lLWjAbIbYQUq",
        "outputId": "047e7959-d451-4bfc-fc48-e7e6e872b20a"
      },
      "outputs": [
        {
          "name": "stdout",
          "output_type": "stream",
          "text": [
            "Looking in indexes: https://pypi.org/simple, https://us-python.pkg.dev/colab-wheels/public/simple/\n",
            "Collecting boto3\n",
            "  Downloading boto3-1.26.27-py3-none-any.whl (132 kB)\n",
            "\u001b[K     |████████████████████████████████| 132 kB 4.7 MB/s \n",
            "\u001b[?25hCollecting jmespath<2.0.0,>=0.7.1\n",
            "  Downloading jmespath-1.0.1-py3-none-any.whl (20 kB)\n",
            "Collecting s3transfer<0.7.0,>=0.6.0\n",
            "  Downloading s3transfer-0.6.0-py3-none-any.whl (79 kB)\n",
            "\u001b[K     |████████████████████████████████| 79 kB 8.6 MB/s \n",
            "\u001b[?25hCollecting botocore<1.30.0,>=1.29.27\n",
            "  Downloading botocore-1.29.27-py3-none-any.whl (10.2 MB)\n",
            "\u001b[K     |████████████████████████████████| 10.2 MB 43.6 MB/s \n",
            "\u001b[?25hRequirement already satisfied: python-dateutil<3.0.0,>=2.1 in /usr/local/lib/python3.8/dist-packages (from botocore<1.30.0,>=1.29.27->boto3) (2.8.2)\n",
            "Collecting urllib3<1.27,>=1.25.4\n",
            "  Downloading urllib3-1.26.13-py2.py3-none-any.whl (140 kB)\n",
            "\u001b[K     |████████████████████████████████| 140 kB 96.0 MB/s \n",
            "\u001b[?25hRequirement already satisfied: six>=1.5 in /usr/local/lib/python3.8/dist-packages (from python-dateutil<3.0.0,>=2.1->botocore<1.30.0,>=1.29.27->boto3) (1.15.0)\n",
            "Installing collected packages: urllib3, jmespath, botocore, s3transfer, boto3\n",
            "  Attempting uninstall: urllib3\n",
            "    Found existing installation: urllib3 1.24.3\n",
            "    Uninstalling urllib3-1.24.3:\n",
            "      Successfully uninstalled urllib3-1.24.3\n",
            "\u001b[31mERROR: pip's dependency resolver does not currently take into account all the packages that are installed. This behaviour is the source of the following dependency conflicts.\n",
            "requests 2.23.0 requires urllib3!=1.25.0,!=1.25.1,<1.26,>=1.21.1, but you have urllib3 1.26.13 which is incompatible.\u001b[0m\n",
            "Successfully installed boto3-1.26.27 botocore-1.29.27 jmespath-1.0.1 s3transfer-0.6.0 urllib3-1.26.13\n"
          ]
        }
      ],
      "source": [
        "!pip install boto3"
      ]
    },
    {
      "cell_type": "code",
      "execution_count": null,
      "metadata": {
        "colab": {
          "base_uri": "https://localhost:8080/"
        },
        "id": "9k5spFlbUR43",
        "outputId": "79046cd4-dfb9-4617-8fe1-d9275ad96a41"
      },
      "outputs": [
        {
          "name": "stderr",
          "output_type": "stream",
          "text": [
            "/usr/local/lib/python3.8/dist-packages/requests/__init__.py:89: RequestsDependencyWarning: urllib3 (1.26.13) or chardet (3.0.4) doesn't match a supported version!\n",
            "  warnings.warn(\"urllib3 ({}) or chardet ({}) doesn't match a supported \"\n"
          ]
        }
      ],
      "source": [
        "import regex as re\n",
        "import numpy \n",
        "import scipy\n",
        "import pandas\n",
        "from matplotlib import pyplot as plt \n",
        "from matplotlib import animation\n",
        "#import netCDF4 as nc\n",
        "#import pyart\n",
        "import glob\n",
        "from IPython import display\n",
        "import os\n",
        "from numpy import array\n",
        "from numpy import hstack\n",
        "from keras import Model\n",
        "from keras.layers import Input\n",
        "from keras.layers import Reshape\n",
        "from keras.models import Sequential\n",
        "from keras.layers import Dense\n",
        "from keras.layers import Flatten\n",
        "from keras.layers import Activation\n",
        "from keras.layers import GRU\n",
        "from keras.layers import Dropout\n",
        "from keras.layers.convolutional import Conv2D\n",
        "from keras.layers.convolutional import MaxPooling2D\n",
        "from keras.metrics import RootMeanSquaredError\n",
        "import matplotlib.pyplot as plt\n",
        "import seaborn as sns\n",
        "from sklearn.model_selection import train_test_split\n",
        "from sklearn.feature_selection import SelectKBest,mutual_info_regression\n",
        "from sklearn.preprocessing import StandardScaler\n",
        "from sklearn.model_selection import train_test_split\n",
        "from sklearn.linear_model import LinearRegression\n",
        "from sklearn.metrics import r2_score,mean_absolute_error,mean_squared_error\n",
        "import boto3\n",
        "import botocore\n",
        "from botocore.client import Config\n",
        "from metpy.io import Level2File\n",
        "from metpy.plots import add_timestamp, ctables\n",
        "from mpl_toolkits.axes_grid1 import make_axes_locatable\n",
        "import numpy as np\n",
        "from io import BytesIO"
      ]
    },
    {
      "cell_type": "code",
      "execution_count": null,
      "metadata": {
        "id": "qdwTRSKi64rr"
      },
      "outputs": [],
      "source": [
        "def split_sequences(sequences, n_steps):\n",
        "\tx, y = list(), list()\n",
        "\tfor i in range(len(sequences)):\n",
        "\t\t# find the end of this pattern\n",
        "\t\tend_ix = i + n_steps\n",
        "\t\t# check if we are beyond the dataset\n",
        "\t\tif end_ix > len(sequences)-1:\n",
        "\t\t\tbreak\n",
        "\t\t# gather input and output parts of the pattern\n",
        "\t\tseq_x, seq_y = sequences[i:end_ix, :], sequences[end_ix, :]\n",
        "\t\tx.append(seq_x)\n",
        "\t\ty.append(seq_y)\n",
        "\treturn array(x), array(y)"
      ]
    },
    {
      "cell_type": "code",
      "execution_count": null,
      "metadata": {
        "colab": {
          "base_uri": "https://localhost:8080/"
        },
        "id": "pQT-BzhRp3ms",
        "outputId": "a7f13b44-e904-448e-cdb0-23e59ec8c74b"
      },
      "outputs": [
        {
          "data": {
            "text/plain": [
              "(234, 720, 1832)"
            ]
          },
          "execution_count": 5,
          "metadata": {},
          "output_type": "execute_result"
        }
      ],
      "source": [
        "ref_arr= numpy.load('ref_arr_KAMX20210701.npy')\n",
        "ref_arr_2_final = np.nan_to_num(ref_arr)\n",
        "X = ref_arr_2_final\n",
        "X_org = X\n",
        "X.shape"
      ]
    },
    {
      "cell_type": "markdown",
      "metadata": {
        "id": "ttAWMEYRdDQo"
      },
      "source": [
        "#BASE CNN"
      ]
    },
    {
      "cell_type": "code",
      "execution_count": null,
      "metadata": {
        "colab": {
          "base_uri": "https://localhost:8080/",
          "height": 1000
        },
        "id": "XPJgKkZx-4Oz",
        "outputId": "438ca8ca-d82d-4b41-ba7e-1233642a66d6"
      },
      "outputs": [
        {
          "name": "stdout",
          "output_type": "stream",
          "text": [
            "(188, 5, 720, 1832) (188, 720, 1832)\n",
            "(None, 1319040)\n",
            "(235, 5, 720, 1832)\n",
            "(235, 720, 1832)\n",
            "Epoch 1/50\n",
            "6/6 [==============================] - 14s 659ms/step - loss: 20.8331 - mse: 20.8331 - mae: 1.4849 - root_mean_squared_error: 4.5643 - val_loss: 22.9014 - val_mse: 22.9014 - val_mae: 1.6036 - val_root_mean_squared_error: 4.7856\n",
            "Epoch 2/50\n",
            "6/6 [==============================] - 2s 299ms/step - loss: 20.7802 - mse: 20.7802 - mae: 1.4963 - root_mean_squared_error: 4.5585 - val_loss: 22.8089 - val_mse: 22.8089 - val_mae: 1.6201 - val_root_mean_squared_error: 4.7759\n",
            "Epoch 3/50\n",
            "6/6 [==============================] - 2s 302ms/step - loss: 20.6806 - mse: 20.6806 - mae: 1.5164 - root_mean_squared_error: 4.5476 - val_loss: 22.6855 - val_mse: 22.6855 - val_mae: 1.6442 - val_root_mean_squared_error: 4.7629\n",
            "Epoch 4/50\n",
            "6/6 [==============================] - 2s 298ms/step - loss: 20.5477 - mse: 20.5477 - mae: 1.5445 - root_mean_squared_error: 4.5330 - val_loss: 22.5160 - val_mse: 22.5160 - val_mae: 1.6758 - val_root_mean_squared_error: 4.7451\n",
            "Epoch 5/50\n",
            "6/6 [==============================] - 2s 309ms/step - loss: 20.3970 - mse: 20.3970 - mae: 1.5866 - root_mean_squared_error: 4.5163 - val_loss: 22.3075 - val_mse: 22.3075 - val_mae: 1.7185 - val_root_mean_squared_error: 4.7231\n",
            "Epoch 6/50\n",
            "6/6 [==============================] - 2s 297ms/step - loss: 20.2129 - mse: 20.2129 - mae: 1.6294 - root_mean_squared_error: 4.4959 - val_loss: 22.0911 - val_mse: 22.0911 - val_mae: 1.7635 - val_root_mean_squared_error: 4.7001\n",
            "Epoch 7/50\n",
            "6/6 [==============================] - 2s 298ms/step - loss: 20.0218 - mse: 20.0218 - mae: 1.6698 - root_mean_squared_error: 4.4746 - val_loss: 21.8850 - val_mse: 21.8850 - val_mae: 1.7979 - val_root_mean_squared_error: 4.6781\n",
            "Epoch 8/50\n",
            "6/6 [==============================] - 2s 306ms/step - loss: 19.8205 - mse: 19.8205 - mae: 1.6829 - root_mean_squared_error: 4.4520 - val_loss: 21.6470 - val_mse: 21.6470 - val_mae: 1.8063 - val_root_mean_squared_error: 4.6526\n",
            "Epoch 9/50\n",
            "6/6 [==============================] - 2s 299ms/step - loss: 19.5945 - mse: 19.5945 - mae: 1.6959 - root_mean_squared_error: 4.4266 - val_loss: 21.3785 - val_mse: 21.3785 - val_mae: 1.7833 - val_root_mean_squared_error: 4.6237\n",
            "Epoch 10/50\n",
            "6/6 [==============================] - 2s 302ms/step - loss: 19.3613 - mse: 19.3613 - mae: 1.6972 - root_mean_squared_error: 4.4002 - val_loss: 21.1159 - val_mse: 21.1159 - val_mae: 1.7738 - val_root_mean_squared_error: 4.5952\n",
            "Epoch 11/50\n",
            "6/6 [==============================] - 2s 310ms/step - loss: 19.0913 - mse: 19.0913 - mae: 1.6974 - root_mean_squared_error: 4.3694 - val_loss: 20.7926 - val_mse: 20.7926 - val_mae: 1.7729 - val_root_mean_squared_error: 4.5599\n",
            "Epoch 12/50\n",
            "6/6 [==============================] - 2s 307ms/step - loss: 18.7989 - mse: 18.7989 - mae: 1.6968 - root_mean_squared_error: 4.3358 - val_loss: 20.4908 - val_mse: 20.4908 - val_mae: 1.7268 - val_root_mean_squared_error: 4.5267\n",
            "Epoch 13/50\n",
            "6/6 [==============================] - 2s 309ms/step - loss: 18.4663 - mse: 18.4663 - mae: 1.6582 - root_mean_squared_error: 4.2972 - val_loss: 20.1811 - val_mse: 20.1811 - val_mae: 1.6693 - val_root_mean_squared_error: 4.4923\n",
            "Epoch 14/50\n",
            "6/6 [==============================] - 2s 304ms/step - loss: 18.1224 - mse: 18.1224 - mae: 1.6321 - root_mean_squared_error: 4.2570 - val_loss: 19.8194 - val_mse: 19.8194 - val_mae: 1.6794 - val_root_mean_squared_error: 4.4519\n",
            "Epoch 15/50\n",
            "6/6 [==============================] - 2s 303ms/step - loss: 17.7755 - mse: 17.7755 - mae: 1.6125 - root_mean_squared_error: 4.2161 - val_loss: 19.3726 - val_mse: 19.3726 - val_mae: 1.6644 - val_root_mean_squared_error: 4.4014\n",
            "Epoch 16/50\n",
            "6/6 [==============================] - 2s 297ms/step - loss: 17.4132 - mse: 17.4132 - mae: 1.6049 - root_mean_squared_error: 4.1729 - val_loss: 19.0587 - val_mse: 19.0587 - val_mae: 1.6667 - val_root_mean_squared_error: 4.3656\n",
            "Epoch 17/50\n",
            "6/6 [==============================] - 2s 302ms/step - loss: 17.0209 - mse: 17.0209 - mae: 1.5797 - root_mean_squared_error: 4.1256 - val_loss: 18.7032 - val_mse: 18.7032 - val_mae: 1.6359 - val_root_mean_squared_error: 4.3247\n",
            "Epoch 18/50\n",
            "6/6 [==============================] - 2s 308ms/step - loss: 16.6826 - mse: 16.6826 - mae: 1.5746 - root_mean_squared_error: 4.0844 - val_loss: 18.3411 - val_mse: 18.3411 - val_mae: 1.6434 - val_root_mean_squared_error: 4.2827\n",
            "Epoch 19/50\n",
            "6/6 [==============================] - 2s 302ms/step - loss: 16.3730 - mse: 16.3730 - mae: 1.5669 - root_mean_squared_error: 4.0464 - val_loss: 18.0446 - val_mse: 18.0446 - val_mae: 1.6458 - val_root_mean_squared_error: 4.2479\n",
            "Epoch 20/50\n",
            "6/6 [==============================] - 2s 310ms/step - loss: 16.1116 - mse: 16.1116 - mae: 1.5644 - root_mean_squared_error: 4.0139 - val_loss: 17.7737 - val_mse: 17.7737 - val_mae: 1.6267 - val_root_mean_squared_error: 4.2159\n",
            "Epoch 21/50\n",
            "6/6 [==============================] - 2s 303ms/step - loss: 15.8462 - mse: 15.8462 - mae: 1.5484 - root_mean_squared_error: 3.9807 - val_loss: 17.6224 - val_mse: 17.6224 - val_mae: 1.6566 - val_root_mean_squared_error: 4.1979\n",
            "Epoch 22/50\n",
            "6/6 [==============================] - 2s 298ms/step - loss: 15.6485 - mse: 15.6485 - mae: 1.5578 - root_mean_squared_error: 3.9558 - val_loss: 17.4404 - val_mse: 17.4404 - val_mae: 1.6428 - val_root_mean_squared_error: 4.1762\n",
            "Epoch 23/50\n",
            "6/6 [==============================] - 2s 307ms/step - loss: 15.4816 - mse: 15.4816 - mae: 1.5404 - root_mean_squared_error: 3.9347 - val_loss: 17.2252 - val_mse: 17.2252 - val_mae: 1.5991 - val_root_mean_squared_error: 4.1503\n",
            "Epoch 24/50\n",
            "6/6 [==============================] - 2s 311ms/step - loss: 15.3317 - mse: 15.3317 - mae: 1.5376 - root_mean_squared_error: 3.9156 - val_loss: 17.1342 - val_mse: 17.1342 - val_mae: 1.6004 - val_root_mean_squared_error: 4.1393\n",
            "Epoch 25/50\n",
            "6/6 [==============================] - 2s 300ms/step - loss: 15.2107 - mse: 15.2107 - mae: 1.5241 - root_mean_squared_error: 3.9001 - val_loss: 17.1130 - val_mse: 17.1130 - val_mae: 1.5946 - val_root_mean_squared_error: 4.1368\n",
            "Epoch 26/50\n",
            "6/6 [==============================] - 2s 302ms/step - loss: 15.1363 - mse: 15.1363 - mae: 1.5165 - root_mean_squared_error: 3.8905 - val_loss: 17.1142 - val_mse: 17.1142 - val_mae: 1.5901 - val_root_mean_squared_error: 4.1369\n",
            "Epoch 27/50\n",
            "6/6 [==============================] - 2s 299ms/step - loss: 15.0832 - mse: 15.0832 - mae: 1.5026 - root_mean_squared_error: 3.8837 - val_loss: 17.0489 - val_mse: 17.0489 - val_mae: 1.5478 - val_root_mean_squared_error: 4.1290\n",
            "Epoch 28/50\n",
            "6/6 [==============================] - 2s 304ms/step - loss: 15.0257 - mse: 15.0257 - mae: 1.4848 - root_mean_squared_error: 3.8763 - val_loss: 16.9903 - val_mse: 16.9903 - val_mae: 1.5681 - val_root_mean_squared_error: 4.1219\n",
            "Epoch 29/50\n",
            "6/6 [==============================] - 2s 301ms/step - loss: 14.9919 - mse: 14.9919 - mae: 1.5046 - root_mean_squared_error: 3.8719 - val_loss: 16.8988 - val_mse: 16.8988 - val_mae: 1.5534 - val_root_mean_squared_error: 4.1108\n",
            "Epoch 30/50\n",
            "6/6 [==============================] - 2s 306ms/step - loss: 14.9835 - mse: 14.9835 - mae: 1.4727 - root_mean_squared_error: 3.8709 - val_loss: 16.8169 - val_mse: 16.8169 - val_mae: 1.5475 - val_root_mean_squared_error: 4.1008\n",
            "Epoch 31/50\n",
            "6/6 [==============================] - 2s 296ms/step - loss: 14.9330 - mse: 14.9330 - mae: 1.5000 - root_mean_squared_error: 3.8643 - val_loss: 16.8504 - val_mse: 16.8504 - val_mae: 1.5689 - val_root_mean_squared_error: 4.1049\n",
            "Epoch 32/50\n",
            "6/6 [==============================] - 2s 299ms/step - loss: 14.9125 - mse: 14.9125 - mae: 1.5001 - root_mean_squared_error: 3.8617 - val_loss: 16.9466 - val_mse: 16.9466 - val_mae: 1.5259 - val_root_mean_squared_error: 4.1166\n",
            "Epoch 33/50\n",
            "6/6 [==============================] - 2s 297ms/step - loss: 14.8934 - mse: 14.8934 - mae: 1.4666 - root_mean_squared_error: 3.8592 - val_loss: 16.8589 - val_mse: 16.8589 - val_mae: 1.5304 - val_root_mean_squared_error: 4.1060\n",
            "Epoch 34/50\n",
            "6/6 [==============================] - 2s 301ms/step - loss: 14.9384 - mse: 14.9384 - mae: 1.5055 - root_mean_squared_error: 3.8650 - val_loss: 17.1377 - val_mse: 17.1377 - val_mae: 1.5161 - val_root_mean_squared_error: 4.1398\n",
            "Epoch 35/50\n",
            "6/6 [==============================] - 2s 307ms/step - loss: 14.9780 - mse: 14.9780 - mae: 1.4850 - root_mean_squared_error: 3.8701 - val_loss: 16.8941 - val_mse: 16.8941 - val_mae: 1.5231 - val_root_mean_squared_error: 4.1103\n",
            "Epoch 36/50\n",
            "6/6 [==============================] - 2s 298ms/step - loss: 14.8111 - mse: 14.8111 - mae: 1.4877 - root_mean_squared_error: 3.8485 - val_loss: 16.9291 - val_mse: 16.9291 - val_mae: 1.5255 - val_root_mean_squared_error: 4.1145\n",
            "Epoch 37/50\n",
            "6/6 [==============================] - 2s 297ms/step - loss: 14.7406 - mse: 14.7406 - mae: 1.4602 - root_mean_squared_error: 3.8394 - val_loss: 16.7919 - val_mse: 16.7919 - val_mae: 1.5079 - val_root_mean_squared_error: 4.0978\n",
            "Epoch 38/50\n",
            "6/6 [==============================] - 2s 296ms/step - loss: 14.7283 - mse: 14.7283 - mae: 1.4675 - root_mean_squared_error: 3.8378 - val_loss: 16.8717 - val_mse: 16.8717 - val_mae: 1.5496 - val_root_mean_squared_error: 4.1075\n",
            "Epoch 39/50\n",
            "6/6 [==============================] - 2s 302ms/step - loss: 14.7100 - mse: 14.7100 - mae: 1.4802 - root_mean_squared_error: 3.8354 - val_loss: 16.8489 - val_mse: 16.8489 - val_mae: 1.5260 - val_root_mean_squared_error: 4.1047\n",
            "Epoch 40/50\n",
            "6/6 [==============================] - 2s 301ms/step - loss: 14.7112 - mse: 14.7112 - mae: 1.4597 - root_mean_squared_error: 3.8355 - val_loss: 16.8215 - val_mse: 16.8215 - val_mae: 1.5203 - val_root_mean_squared_error: 4.1014\n",
            "Epoch 41/50\n",
            "6/6 [==============================] - 2s 303ms/step - loss: 14.7159 - mse: 14.7159 - mae: 1.4794 - root_mean_squared_error: 3.8361 - val_loss: 17.0860 - val_mse: 17.0860 - val_mae: 1.5664 - val_root_mean_squared_error: 4.1335\n",
            "Epoch 42/50\n",
            "6/6 [==============================] - 2s 305ms/step - loss: 14.7005 - mse: 14.7005 - mae: 1.4718 - root_mean_squared_error: 3.8341 - val_loss: 16.8733 - val_mse: 16.8733 - val_mae: 1.5337 - val_root_mean_squared_error: 4.1077\n",
            "Epoch 43/50\n",
            "6/6 [==============================] - 2s 297ms/step - loss: 14.7036 - mse: 14.7036 - mae: 1.4528 - root_mean_squared_error: 3.8345 - val_loss: 16.7752 - val_mse: 16.7752 - val_mae: 1.5093 - val_root_mean_squared_error: 4.0958\n",
            "Epoch 44/50\n",
            "6/6 [==============================] - 2s 304ms/step - loss: 14.6481 - mse: 14.6481 - mae: 1.4816 - root_mean_squared_error: 3.8273 - val_loss: 16.8102 - val_mse: 16.8102 - val_mae: 1.5402 - val_root_mean_squared_error: 4.1000\n",
            "Epoch 45/50\n",
            "6/6 [==============================] - 2s 296ms/step - loss: 14.6279 - mse: 14.6279 - mae: 1.4806 - root_mean_squared_error: 3.8246 - val_loss: 16.8067 - val_mse: 16.8067 - val_mae: 1.5146 - val_root_mean_squared_error: 4.0996\n",
            "Epoch 46/50\n",
            "6/6 [==============================] - 2s 300ms/step - loss: 14.6032 - mse: 14.6032 - mae: 1.4699 - root_mean_squared_error: 3.8214 - val_loss: 16.8960 - val_mse: 16.8960 - val_mae: 1.5328 - val_root_mean_squared_error: 4.1105\n",
            "Epoch 47/50\n",
            "6/6 [==============================] - 2s 298ms/step - loss: 14.6306 - mse: 14.6306 - mae: 1.4637 - root_mean_squared_error: 3.8250 - val_loss: 16.8665 - val_mse: 16.8665 - val_mae: 1.5171 - val_root_mean_squared_error: 4.1069\n",
            "Epoch 48/50\n",
            "6/6 [==============================] - 2s 311ms/step - loss: 14.6203 - mse: 14.6203 - mae: 1.4582 - root_mean_squared_error: 3.8237 - val_loss: 16.8066 - val_mse: 16.8066 - val_mae: 1.5232 - val_root_mean_squared_error: 4.0996\n",
            "Epoch 49/50\n",
            "6/6 [==============================] - 2s 298ms/step - loss: 14.5848 - mse: 14.5848 - mae: 1.4695 - root_mean_squared_error: 3.8190 - val_loss: 16.8444 - val_mse: 16.8444 - val_mae: 1.5291 - val_root_mean_squared_error: 4.1042\n",
            "Epoch 50/50\n",
            "6/6 [==============================] - 2s 298ms/step - loss: 14.5707 - mse: 14.5707 - mae: 1.4677 - root_mean_squared_error: 3.8172 - val_loss: 16.8718 - val_mse: 16.8718 - val_mae: 1.5163 - val_root_mean_squared_error: 4.1075\n",
            "(188, 1319040)\n",
            "0.3162939093460352 1.4231190889077014 14.633513745858627 2.890888062636504\n"
          ]
        },
        {
          "data": {
            "image/png": "[encoded data removed]",
            "text/plain": [
              "<Figure size 576x288 with 1 Axes>"
            ]
          },
          "metadata": {
            "needs_background": "light"
          },
          "output_type": "display_data"
        },
        {
          "data": {
            "image/png": "[encoded data removed]",
            "text/plain": [
              "<Figure size 576x288 with 1 Axes>"
            ]
          },
          "metadata": {
            "needs_background": "light"
          },
          "output_type": "display_data"
        },
        {
          "data": {
            "image/png": "[encoded data removed]",
            "text/plain": [
              "<Figure size 576x288 with 1 Axes>"
            ]
          },
          "metadata": {
            "needs_background": "light"
          },
          "output_type": "display_data"
        }
      ],
      "source": [
        "n_steps = 5\n",
        "X, y = split_sequences(X, n_steps)\n",
        "X_train,X_rem,y_train,y_rem=train_test_split(X,y,test_size=0.2,random_state=42)\n",
        "X_val, X_test, y_val, y_test = train_test_split(X_rem,y_rem, test_size=0.5)\n",
        "print(X_train.shape, y_train.shape)\n",
        "a, b = X, y\n",
        "\n",
        "model_input = Input(shape=(n_steps, X.shape[2], X.shape[3]))\n",
        "x = Conv2D(filters=64, kernel_size=2, activation='relu')(model_input)\n",
        "x = MaxPooling2D(pool_size=2,padding='same')(x)\n",
        "x = Conv2D(filters=64, kernel_size=2, activation='relu')(x)\n",
        "x = MaxPooling2D(pool_size=2,padding='same')(x)\n",
        "x = Conv2D(filters=64, kernel_size=2, activation='relu',padding='same')(x)\n",
        "x = MaxPooling2D(pool_size=2,padding='same')(x)\n",
        "x = Dropout(0.2)(x)\n",
        "x = Flatten()(x)\n",
        "x = Reshape((90,64))(x)\n",
        "x = Dense(50, activation='relu')(x)\n",
        "\n",
        "output = Dense(X.shape[2]*X.shape[3])(x)\n",
        "print(output.get_shape())\n",
        "model = Model(inputs=model_input, outputs=output)\n",
        "\n",
        "model.compile(optimizer='adam', loss='mse', metrics=['mse', 'mae', RootMeanSquaredError()])\n",
        "print(X.shape)\n",
        "print(y.shape)\n",
        "y = y.reshape((y.shape[0], y.shape[1]*y.shape[2]))\n",
        "y_val = y_val.reshape((y_val.shape[0], y_val.shape[1]*y_val.shape[2]))\n",
        "y_train = y_train.reshape((y_train.shape[0], y_train.shape[1]*y_train.shape[2]))\n",
        "\n",
        "# fit model\n",
        "history = model.fit(X_train, y_train,batch_size=32, epochs=50, verbose=1, validation_data =(X_val,y_val))\n",
        "\n",
        "yhat = model.predict(X_train, verbose=0)\n",
        "yhat = numpy.around(yhat, decimals=2)\n",
        "print(yhat.shape)\n",
        "\n",
        "\n",
        "r2 = r2_score(y_train, yhat)\n",
        "mae=mean_absolute_error(y_train, yhat)\n",
        "mse=mean_squared_error(y_train, yhat)\n",
        "rmse=mean_squared_error(y_train, yhat, squared=False)\n",
        "print(r2,mae,mse,rmse)\n",
        "\n",
        "plt.figure(figsize=(8,4))\n",
        "plt.plot(history.history['mse'])\n",
        "plt.xlabel('Epochs')\n",
        "plt.ylabel('mse')\n",
        "plt.show()\n",
        "plt.figure(figsize=(8,4))\n",
        "plt.plot(history.history['mae'],'r')\n",
        "plt.xlabel('Epochs')\n",
        "plt.ylabel('mae')\n",
        "plt.show()\n",
        "plt.figure(figsize=(8,4))\n",
        "plt.plot(history.history['root_mean_squared_error'],'g')\n",
        "plt.xlabel('Epochs')\n",
        "plt.ylabel('rmse')\n",
        "plt.show()"
      ]
    },
    {
      "cell_type": "code",
      "execution_count": null,
      "metadata": {
        "id": "F7h6F0XdLudj"
      },
      "outputs": [],
      "source": [
        "model.save(\"step5_1.h5\")"
      ]
    },
    {
      "cell_type": "markdown",
      "metadata": {
        "id": "OXBseM-OMeX0"
      },
      "source": [
        "#CNN-FT"
      ]
    },
    {
      "cell_type": "code",
      "execution_count": null,
      "metadata": {
        "colab": {
          "base_uri": "https://localhost:8080/"
        },
        "id": "pQadDk4Fij9n",
        "outputId": "a7f13b44-e904-448e-cdb0-23e59ec8c74b"
      },
      "outputs": [
        {
          "data": {
            "text/plain": [
              "(256, 720, 1832)"
            ]
          },
          "execution_count": 5,
          "metadata": {},
          "output_type": "execute_result"
        }
      ],
      "source": [
        "ref_arr= numpy.load('ref_arr_KLIX20210701.npy')\n",
        "ref_arr_2_final = np.nan_to_num(ref_arr)\n",
        "X = ref_arr_2_final\n",
        "X_org = X\n",
        "X.shape"
      ]
    },
    {
      "cell_type": "code",
      "execution_count": null,
      "metadata": {
        "colab": {
          "base_uri": "https://localhost:8080/",
          "height": 1000
        },
        "id": "d-Mwnk-mMdBQ",
        "outputId": "006856fb-c014-4e63-da6b-ba9fb541fdbf"
      },
      "outputs": [
        {
          "name": "stdout",
          "output_type": "stream",
          "text": [
            "(204, 5, 720, 1832) (204, 720, 1832)\n",
            "(None, 1319040)\n",
            "(256, 5, 720, 1832)\n",
            "(256, 720, 1832)\n",
            "Epoch 1/50\n",
            "7/7 [==============================] - 12s 526ms/step - loss: 15.8348 - mse: 15.8348 - mae: 1.5538 - root_mean_squared_error: 3.9793 - val_loss: 14.9121 - val_mse: 14.9121 - val_mae: 1.4694 - val_root_mean_squared_error: 3.8616\n",
            "Epoch 2/50\n",
            "7/7 [==============================] - 2s 274ms/step - loss: 15.1802 - mse: 15.1802 - mae: 1.5191 - root_mean_squared_error: 3.8962 - val_loss: 14.8288 - val_mse: 14.8288 - val_mae: 1.5511 - val_root_mean_squared_error: 3.8508\n",
            "Epoch 3/50\n",
            "7/7 [==============================] - 2s 281ms/step - loss: 14.9246 - mse: 14.9246 - mae: 1.5203 - root_mean_squared_error: 3.8632 - val_loss: 14.4663 - val_mse: 14.4663 - val_mae: 1.4529 - val_root_mean_squared_error: 3.8035\n",
            "Epoch 4/50\n",
            "7/7 [==============================] - 2s 276ms/step - loss: 14.7526 - mse: 14.7526 - mae: 1.4701 - root_mean_squared_error: 3.8409 - val_loss: 14.3912 - val_mse: 14.3912 - val_mae: 1.4526 - val_root_mean_squared_error: 3.7936\n",
            "Epoch 5/50\n",
            "7/7 [==============================] - 2s 275ms/step - loss: 14.5453 - mse: 14.5453 - mae: 1.4979 - root_mean_squared_error: 3.8138 - val_loss: 14.3321 - val_mse: 14.3321 - val_mae: 1.4875 - val_root_mean_squared_error: 3.7858\n",
            "Epoch 6/50\n",
            "7/7 [==============================] - 2s 280ms/step - loss: 14.3930 - mse: 14.3930 - mae: 1.4934 - root_mean_squared_error: 3.7938 - val_loss: 14.4079 - val_mse: 14.4079 - val_mae: 1.4468 - val_root_mean_squared_error: 3.7958\n",
            "Epoch 7/50\n",
            "7/7 [==============================] - 2s 276ms/step - loss: 14.3524 - mse: 14.3524 - mae: 1.4846 - root_mean_squared_error: 3.7885 - val_loss: 14.3020 - val_mse: 14.3020 - val_mae: 1.4728 - val_root_mean_squared_error: 3.7818\n",
            "Epoch 8/50\n",
            "7/7 [==============================] - 2s 278ms/step - loss: 14.2609 - mse: 14.2609 - mae: 1.4888 - root_mean_squared_error: 3.7764 - val_loss: 14.2373 - val_mse: 14.2373 - val_mae: 1.4570 - val_root_mean_squared_error: 3.7732\n",
            "Epoch 9/50\n",
            "7/7 [==============================] - 2s 283ms/step - loss: 14.2168 - mse: 14.2168 - mae: 1.4911 - root_mean_squared_error: 3.7705 - val_loss: 14.2942 - val_mse: 14.2942 - val_mae: 1.4683 - val_root_mean_squared_error: 3.7808\n",
            "Epoch 10/50\n",
            "7/7 [==============================] - 2s 281ms/step - loss: 14.1767 - mse: 14.1767 - mae: 1.4911 - root_mean_squared_error: 3.7652 - val_loss: 14.2845 - val_mse: 14.2845 - val_mae: 1.4591 - val_root_mean_squared_error: 3.7795\n",
            "Epoch 11/50\n",
            "7/7 [==============================] - 2s 282ms/step - loss: 14.1288 - mse: 14.1288 - mae: 1.4920 - root_mean_squared_error: 3.7588 - val_loss: 14.2199 - val_mse: 14.2199 - val_mae: 1.4778 - val_root_mean_squared_error: 3.7709\n",
            "Epoch 12/50\n",
            "7/7 [==============================] - 2s 289ms/step - loss: 14.1273 - mse: 14.1273 - mae: 1.5143 - root_mean_squared_error: 3.7586 - val_loss: 14.2582 - val_mse: 14.2582 - val_mae: 1.4540 - val_root_mean_squared_error: 3.7760\n",
            "Epoch 13/50\n",
            "7/7 [==============================] - 2s 283ms/step - loss: 14.0991 - mse: 14.0991 - mae: 1.4992 - root_mean_squared_error: 3.7549 - val_loss: 14.3878 - val_mse: 14.3878 - val_mae: 1.4524 - val_root_mean_squared_error: 3.7931\n",
            "Epoch 14/50\n",
            "7/7 [==============================] - 2s 278ms/step - loss: 14.0816 - mse: 14.0816 - mae: 1.4924 - root_mean_squared_error: 3.7526 - val_loss: 14.2134 - val_mse: 14.2134 - val_mae: 1.4519 - val_root_mean_squared_error: 3.7701\n",
            "Epoch 15/50\n",
            "7/7 [==============================] - 2s 276ms/step - loss: 14.0286 - mse: 14.0286 - mae: 1.5007 - root_mean_squared_error: 3.7455 - val_loss: 14.1507 - val_mse: 14.1507 - val_mae: 1.4613 - val_root_mean_squared_error: 3.7617\n",
            "Epoch 16/50\n",
            "7/7 [==============================] - 2s 281ms/step - loss: 14.0218 - mse: 14.0218 - mae: 1.4890 - root_mean_squared_error: 3.7446 - val_loss: 14.1155 - val_mse: 14.1155 - val_mae: 1.4610 - val_root_mean_squared_error: 3.7571\n",
            "Epoch 17/50\n",
            "7/7 [==============================] - 2s 279ms/step - loss: 13.9973 - mse: 13.9973 - mae: 1.4985 - root_mean_squared_error: 3.7413 - val_loss: 14.0970 - val_mse: 14.0970 - val_mae: 1.4656 - val_root_mean_squared_error: 3.7546\n",
            "Epoch 18/50\n",
            "7/7 [==============================] - 2s 279ms/step - loss: 13.9824 - mse: 13.9824 - mae: 1.4996 - root_mean_squared_error: 3.7393 - val_loss: 14.0999 - val_mse: 14.0999 - val_mae: 1.4717 - val_root_mean_squared_error: 3.7550\n",
            "Epoch 19/50\n",
            "7/7 [==============================] - 2s 282ms/step - loss: 13.9843 - mse: 13.9843 - mae: 1.5033 - root_mean_squared_error: 3.7396 - val_loss: 14.0874 - val_mse: 14.0874 - val_mae: 1.4967 - val_root_mean_squared_error: 3.7533\n",
            "Epoch 20/50\n",
            "7/7 [==============================] - 2s 277ms/step - loss: 13.9801 - mse: 13.9801 - mae: 1.5156 - root_mean_squared_error: 3.7390 - val_loss: 14.0781 - val_mse: 14.0781 - val_mae: 1.4853 - val_root_mean_squared_error: 3.7521\n",
            "Epoch 21/50\n",
            "7/7 [==============================] - 2s 278ms/step - loss: 13.9397 - mse: 13.9397 - mae: 1.4993 - root_mean_squared_error: 3.7336 - val_loss: 14.0484 - val_mse: 14.0484 - val_mae: 1.4910 - val_root_mean_squared_error: 3.7481\n",
            "Epoch 22/50\n",
            "7/7 [==============================] - 2s 277ms/step - loss: 13.9426 - mse: 13.9426 - mae: 1.5050 - root_mean_squared_error: 3.7340 - val_loss: 14.0414 - val_mse: 14.0414 - val_mae: 1.5005 - val_root_mean_squared_error: 3.7472\n",
            "Epoch 23/50\n",
            "7/7 [==============================] - 2s 284ms/step - loss: 13.9507 - mse: 13.9507 - mae: 1.5013 - root_mean_squared_error: 3.7351 - val_loss: 14.0261 - val_mse: 14.0261 - val_mae: 1.4947 - val_root_mean_squared_error: 3.7451\n",
            "Epoch 24/50\n",
            "7/7 [==============================] - 2s 283ms/step - loss: 13.9274 - mse: 13.9274 - mae: 1.4983 - root_mean_squared_error: 3.7319 - val_loss: 14.0146 - val_mse: 14.0146 - val_mae: 1.4894 - val_root_mean_squared_error: 3.7436\n",
            "Epoch 25/50\n",
            "7/7 [==============================] - 2s 277ms/step - loss: 13.9078 - mse: 13.9078 - mae: 1.4932 - root_mean_squared_error: 3.7293 - val_loss: 14.0341 - val_mse: 14.0341 - val_mae: 1.4983 - val_root_mean_squared_error: 3.7462\n",
            "Epoch 26/50\n",
            "7/7 [==============================] - 2s 276ms/step - loss: 13.9349 - mse: 13.9349 - mae: 1.5118 - root_mean_squared_error: 3.7329 - val_loss: 14.1134 - val_mse: 14.1134 - val_mae: 1.5125 - val_root_mean_squared_error: 3.7568\n",
            "Epoch 27/50\n",
            "7/7 [==============================] - 2s 283ms/step - loss: 13.9026 - mse: 13.9026 - mae: 1.5071 - root_mean_squared_error: 3.7286 - val_loss: 14.0398 - val_mse: 14.0398 - val_mae: 1.4986 - val_root_mean_squared_error: 3.7470\n",
            "Epoch 28/50\n",
            "7/7 [==============================] - 2s 278ms/step - loss: 13.9003 - mse: 13.9003 - mae: 1.5090 - root_mean_squared_error: 3.7283 - val_loss: 14.0714 - val_mse: 14.0714 - val_mae: 1.5127 - val_root_mean_squared_error: 3.7512\n",
            "Epoch 29/50\n",
            "7/7 [==============================] - 2s 285ms/step - loss: 13.8755 - mse: 13.8755 - mae: 1.5048 - root_mean_squared_error: 3.7250 - val_loss: 14.0136 - val_mse: 14.0136 - val_mae: 1.4928 - val_root_mean_squared_error: 3.7435\n",
            "Epoch 30/50\n",
            "7/7 [==============================] - 2s 283ms/step - loss: 13.8784 - mse: 13.8784 - mae: 1.4976 - root_mean_squared_error: 3.7254 - val_loss: 14.0001 - val_mse: 14.0001 - val_mae: 1.4981 - val_root_mean_squared_error: 3.7417\n",
            "Epoch 31/50\n",
            "7/7 [==============================] - 2s 276ms/step - loss: 13.8697 - mse: 13.8697 - mae: 1.5047 - root_mean_squared_error: 3.7242 - val_loss: 14.0338 - val_mse: 14.0338 - val_mae: 1.5044 - val_root_mean_squared_error: 3.7462\n",
            "Epoch 32/50\n",
            "7/7 [==============================] - 2s 280ms/step - loss: 13.8413 - mse: 13.8413 - mae: 1.5021 - root_mean_squared_error: 3.7204 - val_loss: 14.0653 - val_mse: 14.0653 - val_mae: 1.5088 - val_root_mean_squared_error: 3.7504\n",
            "Epoch 33/50\n",
            "7/7 [==============================] - 2s 278ms/step - loss: 13.8240 - mse: 13.8240 - mae: 1.5095 - root_mean_squared_error: 3.7181 - val_loss: 14.0174 - val_mse: 14.0174 - val_mae: 1.5030 - val_root_mean_squared_error: 3.7440\n",
            "Epoch 34/50\n",
            "7/7 [==============================] - 2s 279ms/step - loss: 13.8184 - mse: 13.8184 - mae: 1.5026 - root_mean_squared_error: 3.7173 - val_loss: 14.1312 - val_mse: 14.1312 - val_mae: 1.4921 - val_root_mean_squared_error: 3.7591\n",
            "Epoch 35/50\n",
            "7/7 [==============================] - 2s 273ms/step - loss: 13.8345 - mse: 13.8345 - mae: 1.5039 - root_mean_squared_error: 3.7195 - val_loss: 14.1114 - val_mse: 14.1114 - val_mae: 1.5108 - val_root_mean_squared_error: 3.7565\n",
            "Epoch 36/50\n",
            "7/7 [==============================] - 2s 275ms/step - loss: 13.8669 - mse: 13.8669 - mae: 1.5126 - root_mean_squared_error: 3.7238 - val_loss: 14.1981 - val_mse: 14.1981 - val_mae: 1.5106 - val_root_mean_squared_error: 3.7680\n",
            "Epoch 37/50\n",
            "7/7 [==============================] - 2s 289ms/step - loss: 13.8368 - mse: 13.8368 - mae: 1.5071 - root_mean_squared_error: 3.7198 - val_loss: 14.0206 - val_mse: 14.0206 - val_mae: 1.4970 - val_root_mean_squared_error: 3.7444\n",
            "Epoch 38/50\n",
            "7/7 [==============================] - 2s 278ms/step - loss: 13.7982 - mse: 13.7982 - mae: 1.4995 - root_mean_squared_error: 3.7146 - val_loss: 13.9956 - val_mse: 13.9956 - val_mae: 1.4855 - val_root_mean_squared_error: 3.7411\n",
            "Epoch 39/50\n",
            "7/7 [==============================] - 2s 282ms/step - loss: 13.7958 - mse: 13.7958 - mae: 1.4973 - root_mean_squared_error: 3.7143 - val_loss: 14.0189 - val_mse: 14.0189 - val_mae: 1.4970 - val_root_mean_squared_error: 3.7442\n",
            "Epoch 40/50\n",
            "7/7 [==============================] - 2s 276ms/step - loss: 13.7674 - mse: 13.7674 - mae: 1.5022 - root_mean_squared_error: 3.7105 - val_loss: 13.9685 - val_mse: 13.9685 - val_mae: 1.4967 - val_root_mean_squared_error: 3.7375\n",
            "Epoch 41/50\n",
            "7/7 [==============================] - 2s 287ms/step - loss: 13.7539 - mse: 13.7539 - mae: 1.5012 - root_mean_squared_error: 3.7086 - val_loss: 13.9889 - val_mse: 13.9889 - val_mae: 1.4855 - val_root_mean_squared_error: 3.7402\n",
            "Epoch 42/50\n",
            "7/7 [==============================] - 2s 275ms/step - loss: 13.7525 - mse: 13.7525 - mae: 1.5005 - root_mean_squared_error: 3.7084 - val_loss: 13.9683 - val_mse: 13.9683 - val_mae: 1.4989 - val_root_mean_squared_error: 3.7374\n",
            "Epoch 43/50\n",
            "7/7 [==============================] - 2s 277ms/step - loss: 13.7369 - mse: 13.7369 - mae: 1.5076 - root_mean_squared_error: 3.7063 - val_loss: 13.9779 - val_mse: 13.9779 - val_mae: 1.4952 - val_root_mean_squared_error: 3.7387\n",
            "Epoch 44/50\n",
            "7/7 [==============================] - 2s 284ms/step - loss: 13.7406 - mse: 13.7406 - mae: 1.5021 - root_mean_squared_error: 3.7068 - val_loss: 14.0218 - val_mse: 14.0218 - val_mae: 1.4982 - val_root_mean_squared_error: 3.7446\n",
            "Epoch 45/50\n",
            "7/7 [==============================] - 2s 283ms/step - loss: 13.7252 - mse: 13.7252 - mae: 1.5003 - root_mean_squared_error: 3.7048 - val_loss: 13.9873 - val_mse: 13.9873 - val_mae: 1.5006 - val_root_mean_squared_error: 3.7400\n",
            "Epoch 46/50\n",
            "7/7 [==============================] - 2s 286ms/step - loss: 13.7153 - mse: 13.7153 - mae: 1.5053 - root_mean_squared_error: 3.7034 - val_loss: 14.0039 - val_mse: 14.0039 - val_mae: 1.5035 - val_root_mean_squared_error: 3.7422\n",
            "Epoch 47/50\n",
            "7/7 [==============================] - 2s 275ms/step - loss: 13.7093 - mse: 13.7093 - mae: 1.5006 - root_mean_squared_error: 3.7026 - val_loss: 13.9902 - val_mse: 13.9902 - val_mae: 1.4970 - val_root_mean_squared_error: 3.7403\n",
            "Epoch 48/50\n",
            "7/7 [==============================] - 2s 280ms/step - loss: 13.7031 - mse: 13.7031 - mae: 1.5024 - root_mean_squared_error: 3.7018 - val_loss: 13.9646 - val_mse: 13.9646 - val_mae: 1.4939 - val_root_mean_squared_error: 3.7369\n",
            "Epoch 49/50\n",
            "7/7 [==============================] - 2s 280ms/step - loss: 13.7041 - mse: 13.7041 - mae: 1.4986 - root_mean_squared_error: 3.7019 - val_loss: 13.9957 - val_mse: 13.9957 - val_mae: 1.4826 - val_root_mean_squared_error: 3.7411\n",
            "Epoch 50/50\n",
            "7/7 [==============================] - 2s 273ms/step - loss: 13.6989 - mse: 13.6989 - mae: 1.4963 - root_mean_squared_error: 3.7012 - val_loss: 13.9934 - val_mse: 13.9934 - val_mae: 1.4984 - val_root_mean_squared_error: 3.7408\n",
            "(204, 1319040)\n",
            "0.3165612479160612 1.4949935888121508 13.727758511785302 2.7640990714251337\n"
          ]
        },
        {
          "data": {
            "image/png": "[encoded data removed]",
            "text/plain": [
              "<Figure size 576x288 with 1 Axes>"
            ]
          },
          "metadata": {
            "needs_background": "light"
          },
          "output_type": "display_data"
        },
        {
          "data": {
            "image/png": "[encoded data removed]",
            "text/plain": [
              "<Figure size 576x288 with 1 Axes>"
            ]
          },
          "metadata": {
            "needs_background": "light"
          },
          "output_type": "display_data"
        },
        {
          "data": {
            "image/png": "[encoded data removed]",
            "text/plain": [
              "<Figure size 576x288 with 1 Axes>"
            ]
          },
          "metadata": {
            "needs_background": "light"
          },
          "output_type": "display_data"
        }
      ],
      "source": [
        "n_steps = 5\n",
        "X, y = split_sequences(X, n_steps)\n",
        "X_train,X_rem,y_train,y_rem=train_test_split(X,y,test_size=0.2,random_state=42)\n",
        "X_val, X_test, y_val, y_test = train_test_split(X_rem,y_rem, test_size=0.5)\n",
        "print(X_train.shape, y_train.shape)\n",
        "a, b = X, y\n",
        "\n",
        "model_input = Input(shape=(n_steps, X.shape[2], X.shape[3]))\n",
        "x = Conv2D(filters=64, kernel_size=2, activation='relu')(model_input)\n",
        "x = MaxPooling2D(pool_size=2,padding='same')(x)\n",
        "x = Conv2D(filters=64, kernel_size=2, activation='relu')(x)\n",
        "x = MaxPooling2D(pool_size=2,padding='same')(x)\n",
        "x = Conv2D(filters=64, kernel_size=2, activation='relu',padding='same')(x)\n",
        "x = MaxPooling2D(pool_size=2,padding='same')(x)\n",
        "x = Dropout(0.2)(x)\n",
        "x = Flatten()(x)\n",
        "x = Reshape((90,64))(x)\n",
        "x = Dense(50, activation='relu')(x)\n",
        "\n",
        "output = Dense(X.shape[2]*X.shape[3])(x)\n",
        "print(output.get_shape())\n",
        "model = Model(inputs=model_input, outputs=output)\n",
        "model.load_weights(\"step5_1.h5\") #Loading Weights trained in Miami Data\n",
        "model.compile(optimizer='adam', loss='mse', metrics=['mse', 'mae', RootMeanSquaredError()])\n",
        "print(X.shape)\n",
        "print(y.shape)\n",
        "y = y.reshape((y.shape[0], y.shape[1]*y.shape[2]))\n",
        "y_val = y_val.reshape((y_val.shape[0], y_val.shape[1]*y_val.shape[2]))\n",
        "y_train = y_train.reshape((y_train.shape[0], y_train.shape[1]*y_train.shape[2]))\n",
        "\n",
        "# Fine Tuning it with New Orleans Data \n",
        "history = model.fit(X_train, y_train,batch_size=32, epochs=50, verbose=1, validation_data =(X_val,y_val))\n",
        "\n",
        "# demonstrate prediction\n",
        "yhat = model.predict(X_train, verbose=0)\n",
        "yhat = numpy.around(yhat, decimals=2)\n",
        "print(yhat.shape)\n",
        "\n",
        "r2 = r2_score(y_train, yhat)\n",
        "mae=mean_absolute_error(y_train, yhat)\n",
        "mse=mean_squared_error(y_train, yhat)\n",
        "rmse=mean_squared_error(y_train, yhat, squared=False)\n",
        "print(r2,mae,mse,rmse)\n",
        "\n",
        "plt.figure(figsize=(8,4))\n",
        "plt.plot(history.history['mse'])\n",
        "plt.xlabel('Epochs')\n",
        "plt.ylabel('mse')\n",
        "plt.show()\n",
        "plt.figure(figsize=(8,4))\n",
        "plt.plot(history.history['mae'],'r')\n",
        "plt.xlabel('Epochs')\n",
        "plt.ylabel('mae')\n",
        "plt.show()\n",
        "plt.figure(figsize=(8,4))\n",
        "plt.plot(history.history['root_mean_squared_error'],'g')\n",
        "plt.xlabel('Epochs')\n",
        "plt.ylabel('rmse')\n",
        "plt.show()"
      ]
    },
    {
      "cell_type": "code",
      "execution_count": null,
      "metadata": {
        "id": "EP9f03Fk-A7Z"
      },
      "outputs": [],
      "source": [
        "model.save(\"step5_2.h5\")"
      ]
    },
    {
      "cell_type": "markdown",
      "metadata": {
        "id": "_2DBXzbmN61L"
      },
      "source": [
        "# CNN-GRU"
      ]
    },
    {
      "cell_type": "code",
      "execution_count": null,
      "metadata": {
        "colab": {
          "base_uri": "https://localhost:8080/",
          "height": 1000
        },
        "id": "HOIss5qHOAX3",
        "outputId": "00c67012-dc64-481d-aa5a-97a1b31d1d20"
      },
      "outputs": [
        {
          "name": "stdout",
          "output_type": "stream",
          "text": [
            "(151, 5, 720, 1832) (151, 720, 1832)\n",
            "(None, 1319040)\n",
            "(189, 5, 720, 1832)\n",
            "(189, 720, 1832)\n",
            "Epoch 1/50\n",
            "5/5 [==============================] - 10s 688ms/step - loss: 10.8289 - mse: 10.8289 - mae: 1.5825 - root_mean_squared_error: 3.2907 - val_loss: 9.8625 - val_mse: 9.8625 - val_mae: 1.5110 - val_root_mean_squared_error: 3.1405\n",
            "Epoch 2/50\n",
            "5/5 [==============================] - 1s 297ms/step - loss: 9.9096 - mse: 9.9096 - mae: 1.5164 - root_mean_squared_error: 3.1480 - val_loss: 9.4059 - val_mse: 9.4059 - val_mae: 1.4739 - val_root_mean_squared_error: 3.0669\n",
            "Epoch 3/50\n",
            "5/5 [==============================] - 1s 294ms/step - loss: 9.5142 - mse: 9.5142 - mae: 1.4837 - root_mean_squared_error: 3.0845 - val_loss: 8.9799 - val_mse: 8.9799 - val_mae: 1.4329 - val_root_mean_squared_error: 2.9966\n",
            "Epoch 4/50\n",
            "5/5 [==============================] - 1s 289ms/step - loss: 9.1457 - mse: 9.1457 - mae: 1.4499 - root_mean_squared_error: 3.0242 - val_loss: 8.6886 - val_mse: 8.6886 - val_mae: 1.4062 - val_root_mean_squared_error: 2.9476\n",
            "Epoch 5/50\n",
            "5/5 [==============================] - 1s 299ms/step - loss: 8.8798 - mse: 8.8798 - mae: 1.4235 - root_mean_squared_error: 2.9799 - val_loss: 8.2878 - val_mse: 8.2878 - val_mae: 1.3574 - val_root_mean_squared_error: 2.8789\n",
            "Epoch 6/50\n",
            "5/5 [==============================] - 1s 301ms/step - loss: 8.5985 - mse: 8.5985 - mae: 1.3821 - root_mean_squared_error: 2.9323 - val_loss: 8.0892 - val_mse: 8.0892 - val_mae: 1.3229 - val_root_mean_squared_error: 2.8442\n",
            "Epoch 7/50\n",
            "5/5 [==============================] - 1s 290ms/step - loss: 8.3818 - mse: 8.3818 - mae: 1.3484 - root_mean_squared_error: 2.8951 - val_loss: 7.9940 - val_mse: 7.9940 - val_mae: 1.2998 - val_root_mean_squared_error: 2.8274\n",
            "Epoch 8/50\n",
            "5/5 [==============================] - 1s 288ms/step - loss: 8.1663 - mse: 8.1663 - mae: 1.3252 - root_mean_squared_error: 2.8577 - val_loss: 7.8528 - val_mse: 7.8528 - val_mae: 1.2843 - val_root_mean_squared_error: 2.8023\n",
            "Epoch 9/50\n",
            "5/5 [==============================] - 1s 290ms/step - loss: 8.0159 - mse: 8.0159 - mae: 1.3085 - root_mean_squared_error: 2.8312 - val_loss: 7.7427 - val_mse: 7.7427 - val_mae: 1.2733 - val_root_mean_squared_error: 2.7826\n",
            "Epoch 10/50\n",
            "5/5 [==============================] - 1s 296ms/step - loss: 7.9388 - mse: 7.9388 - mae: 1.2966 - root_mean_squared_error: 2.8176 - val_loss: 7.7006 - val_mse: 7.7006 - val_mae: 1.2597 - val_root_mean_squared_error: 2.7750\n",
            "Epoch 11/50\n",
            "5/5 [==============================] - 1s 291ms/step - loss: 7.8410 - mse: 7.8410 - mae: 1.2752 - root_mean_squared_error: 2.8002 - val_loss: 7.7775 - val_mse: 7.7775 - val_mae: 1.2484 - val_root_mean_squared_error: 2.7888\n",
            "Epoch 12/50\n",
            "5/5 [==============================] - 1s 297ms/step - loss: 7.7842 - mse: 7.7842 - mae: 1.2598 - root_mean_squared_error: 2.7900 - val_loss: 7.6313 - val_mse: 7.6313 - val_mae: 1.2307 - val_root_mean_squared_error: 2.7625\n",
            "Epoch 13/50\n",
            "5/5 [==============================] - 1s 293ms/step - loss: 7.6475 - mse: 7.6475 - mae: 1.2376 - root_mean_squared_error: 2.7654 - val_loss: 7.7638 - val_mse: 7.7638 - val_mae: 1.2278 - val_root_mean_squared_error: 2.7864\n",
            "Epoch 14/50\n",
            "5/5 [==============================] - 1s 296ms/step - loss: 7.6549 - mse: 7.6549 - mae: 1.2258 - root_mean_squared_error: 2.7667 - val_loss: 7.5291 - val_mse: 7.5291 - val_mae: 1.2132 - val_root_mean_squared_error: 2.7439\n",
            "Epoch 15/50\n",
            "5/5 [==============================] - 1s 290ms/step - loss: 7.5909 - mse: 7.5909 - mae: 1.2182 - root_mean_squared_error: 2.7552 - val_loss: 7.5842 - val_mse: 7.5842 - val_mae: 1.2002 - val_root_mean_squared_error: 2.7539\n",
            "Epoch 16/50\n",
            "5/5 [==============================] - 1s 296ms/step - loss: 7.5121 - mse: 7.5121 - mae: 1.1994 - root_mean_squared_error: 2.7408 - val_loss: 7.6701 - val_mse: 7.6701 - val_mae: 1.1930 - val_root_mean_squared_error: 2.7695\n",
            "Epoch 17/50\n",
            "5/5 [==============================] - 1s 296ms/step - loss: 7.5040 - mse: 7.5040 - mae: 1.1853 - root_mean_squared_error: 2.7394 - val_loss: 7.4668 - val_mse: 7.4668 - val_mae: 1.1840 - val_root_mean_squared_error: 2.7326\n",
            "Epoch 18/50\n",
            "5/5 [==============================] - 1s 289ms/step - loss: 7.4248 - mse: 7.4248 - mae: 1.1982 - root_mean_squared_error: 2.7249 - val_loss: 7.4471 - val_mse: 7.4471 - val_mae: 1.1912 - val_root_mean_squared_error: 2.7289\n",
            "Epoch 19/50\n",
            "5/5 [==============================] - 1s 294ms/step - loss: 7.4427 - mse: 7.4427 - mae: 1.1798 - root_mean_squared_error: 2.7281 - val_loss: 7.5196 - val_mse: 7.5196 - val_mae: 1.1815 - val_root_mean_squared_error: 2.7422\n",
            "Epoch 20/50\n",
            "5/5 [==============================] - 1s 303ms/step - loss: 7.2729 - mse: 7.2729 - mae: 1.1631 - root_mean_squared_error: 2.6968 - val_loss: 7.5906 - val_mse: 7.5906 - val_mae: 1.1979 - val_root_mean_squared_error: 2.7551\n",
            "Epoch 21/50\n",
            "5/5 [==============================] - 1s 290ms/step - loss: 7.2465 - mse: 7.2465 - mae: 1.1710 - root_mean_squared_error: 2.6919 - val_loss: 7.4572 - val_mse: 7.4572 - val_mae: 1.2016 - val_root_mean_squared_error: 2.7308\n",
            "Epoch 22/50\n",
            "5/5 [==============================] - 1s 305ms/step - loss: 7.2006 - mse: 7.2006 - mae: 1.1773 - root_mean_squared_error: 2.6834 - val_loss: 7.3421 - val_mse: 7.3421 - val_mae: 1.1702 - val_root_mean_squared_error: 2.7096\n",
            "Epoch 23/50\n",
            "5/5 [==============================] - 1s 296ms/step - loss: 7.1611 - mse: 7.1611 - mae: 1.1518 - root_mean_squared_error: 2.6760 - val_loss: 7.3430 - val_mse: 7.3430 - val_mae: 1.1726 - val_root_mean_squared_error: 2.7098\n",
            "Epoch 24/50\n",
            "5/5 [==============================] - 1s 301ms/step - loss: 7.1389 - mse: 7.1389 - mae: 1.1508 - root_mean_squared_error: 2.6719 - val_loss: 7.3428 - val_mse: 7.3428 - val_mae: 1.1707 - val_root_mean_squared_error: 2.7098\n",
            "Epoch 25/50\n",
            "5/5 [==============================] - 1s 291ms/step - loss: 7.0636 - mse: 7.0636 - mae: 1.1444 - root_mean_squared_error: 2.6578 - val_loss: 7.2810 - val_mse: 7.2810 - val_mae: 1.1723 - val_root_mean_squared_error: 2.6983\n",
            "Epoch 26/50\n",
            "5/5 [==============================] - 1s 290ms/step - loss: 7.0625 - mse: 7.0625 - mae: 1.1607 - root_mean_squared_error: 2.6575 - val_loss: 7.3438 - val_mse: 7.3438 - val_mae: 1.1854 - val_root_mean_squared_error: 2.7099\n",
            "Epoch 27/50\n",
            "5/5 [==============================] - 1s 290ms/step - loss: 7.0202 - mse: 7.0202 - mae: 1.1432 - root_mean_squared_error: 2.6496 - val_loss: 7.2536 - val_mse: 7.2536 - val_mae: 1.1612 - val_root_mean_squared_error: 2.6933\n",
            "Epoch 28/50\n",
            "5/5 [==============================] - 1s 290ms/step - loss: 6.9572 - mse: 6.9572 - mae: 1.1311 - root_mean_squared_error: 2.6377 - val_loss: 7.1122 - val_mse: 7.1122 - val_mae: 1.1531 - val_root_mean_squared_error: 2.6669\n",
            "Epoch 29/50\n",
            "5/5 [==============================] - 1s 301ms/step - loss: 6.9294 - mse: 6.9294 - mae: 1.1268 - root_mean_squared_error: 2.6324 - val_loss: 7.3425 - val_mse: 7.3425 - val_mae: 1.1686 - val_root_mean_squared_error: 2.7097\n",
            "Epoch 30/50\n",
            "5/5 [==============================] - 1s 294ms/step - loss: 6.9879 - mse: 6.9879 - mae: 1.1319 - root_mean_squared_error: 2.6435 - val_loss: 8.5034 - val_mse: 8.5034 - val_mae: 1.3021 - val_root_mean_squared_error: 2.9161\n",
            "Epoch 31/50\n",
            "5/5 [==============================] - 1s 288ms/step - loss: 6.9669 - mse: 6.9669 - mae: 1.1463 - root_mean_squared_error: 2.6395 - val_loss: 7.3688 - val_mse: 7.3688 - val_mae: 1.1722 - val_root_mean_squared_error: 2.7146\n",
            "Epoch 32/50\n",
            "5/5 [==============================] - 1s 306ms/step - loss: 6.8634 - mse: 6.8634 - mae: 1.1336 - root_mean_squared_error: 2.6198 - val_loss: 7.3100 - val_mse: 7.3100 - val_mae: 1.1687 - val_root_mean_squared_error: 2.7037\n",
            "Epoch 33/50\n",
            "5/5 [==============================] - 1s 307ms/step - loss: 6.8627 - mse: 6.8627 - mae: 1.1300 - root_mean_squared_error: 2.6197 - val_loss: 7.2047 - val_mse: 7.2047 - val_mae: 1.1661 - val_root_mean_squared_error: 2.6842\n",
            "Epoch 34/50\n",
            "5/5 [==============================] - 1s 288ms/step - loss: 6.8169 - mse: 6.8169 - mae: 1.1223 - root_mean_squared_error: 2.6109 - val_loss: 7.2345 - val_mse: 7.2345 - val_mae: 1.1738 - val_root_mean_squared_error: 2.6897\n",
            "Epoch 35/50\n",
            "5/5 [==============================] - 1s 297ms/step - loss: 6.8046 - mse: 6.8046 - mae: 1.1251 - root_mean_squared_error: 2.6086 - val_loss: 7.2293 - val_mse: 7.2293 - val_mae: 1.1582 - val_root_mean_squared_error: 2.6887\n",
            "Epoch 36/50\n",
            "5/5 [==============================] - 1s 291ms/step - loss: 6.8058 - mse: 6.8058 - mae: 1.1167 - root_mean_squared_error: 2.6088 - val_loss: 7.2691 - val_mse: 7.2691 - val_mae: 1.1567 - val_root_mean_squared_error: 2.6961\n",
            "Epoch 37/50\n",
            "5/5 [==============================] - 1s 291ms/step - loss: 6.7771 - mse: 6.7771 - mae: 1.1182 - root_mean_squared_error: 2.6033 - val_loss: 7.2505 - val_mse: 7.2505 - val_mae: 1.1634 - val_root_mean_squared_error: 2.6927\n",
            "Epoch 38/50\n",
            "5/5 [==============================] - 1s 301ms/step - loss: 6.7723 - mse: 6.7723 - mae: 1.1158 - root_mean_squared_error: 2.6024 - val_loss: 7.0618 - val_mse: 7.0618 - val_mae: 1.1409 - val_root_mean_squared_error: 2.6574\n",
            "Epoch 39/50\n",
            "5/5 [==============================] - 1s 291ms/step - loss: 6.7967 - mse: 6.7967 - mae: 1.1143 - root_mean_squared_error: 2.6071 - val_loss: 7.2060 - val_mse: 7.2060 - val_mae: 1.1496 - val_root_mean_squared_error: 2.6844\n",
            "Epoch 40/50\n",
            "5/5 [==============================] - 1s 297ms/step - loss: 6.7971 - mse: 6.7971 - mae: 1.1171 - root_mean_squared_error: 2.6071 - val_loss: 7.3443 - val_mse: 7.3443 - val_mae: 1.1820 - val_root_mean_squared_error: 2.7100\n",
            "Epoch 41/50\n",
            "5/5 [==============================] - 1s 291ms/step - loss: 6.8198 - mse: 6.8198 - mae: 1.1236 - root_mean_squared_error: 2.6115 - val_loss: 7.2744 - val_mse: 7.2744 - val_mae: 1.1558 - val_root_mean_squared_error: 2.6971\n",
            "Epoch 42/50\n",
            "5/5 [==============================] - 1s 291ms/step - loss: 6.8003 - mse: 6.8003 - mae: 1.1131 - root_mean_squared_error: 2.6077 - val_loss: 7.0546 - val_mse: 7.0546 - val_mae: 1.1480 - val_root_mean_squared_error: 2.6561\n",
            "Epoch 43/50\n",
            "5/5 [==============================] - 1s 296ms/step - loss: 6.7730 - mse: 6.7730 - mae: 1.1149 - root_mean_squared_error: 2.6025 - val_loss: 7.0927 - val_mse: 7.0927 - val_mae: 1.1536 - val_root_mean_squared_error: 2.6632\n",
            "Epoch 44/50\n",
            "5/5 [==============================] - 1s 304ms/step - loss: 6.8112 - mse: 6.8112 - mae: 1.1168 - root_mean_squared_error: 2.6098 - val_loss: 7.1619 - val_mse: 7.1619 - val_mae: 1.1478 - val_root_mean_squared_error: 2.6762\n",
            "Epoch 45/50\n",
            "5/5 [==============================] - 1s 296ms/step - loss: 6.8063 - mse: 6.8063 - mae: 1.1147 - root_mean_squared_error: 2.6089 - val_loss: 7.1513 - val_mse: 7.1513 - val_mae: 1.1581 - val_root_mean_squared_error: 2.6742\n",
            "Epoch 46/50\n",
            "5/5 [==============================] - 1s 297ms/step - loss: 6.7833 - mse: 6.7833 - mae: 1.1157 - root_mean_squared_error: 2.6045 - val_loss: 7.3177 - val_mse: 7.3177 - val_mae: 1.1680 - val_root_mean_squared_error: 2.7051\n",
            "Epoch 47/50\n",
            "5/5 [==============================] - 1s 288ms/step - loss: 6.7654 - mse: 6.7654 - mae: 1.1107 - root_mean_squared_error: 2.6010 - val_loss: 7.0462 - val_mse: 7.0462 - val_mae: 1.1496 - val_root_mean_squared_error: 2.6545\n",
            "Epoch 48/50\n",
            "5/5 [==============================] - 1s 289ms/step - loss: 6.7683 - mse: 6.7683 - mae: 1.1076 - root_mean_squared_error: 2.6016 - val_loss: 7.0660 - val_mse: 7.0660 - val_mae: 1.1506 - val_root_mean_squared_error: 2.6582\n",
            "Epoch 49/50\n",
            "5/5 [==============================] - 1s 288ms/step - loss: 6.7326 - mse: 6.7326 - mae: 1.1067 - root_mean_squared_error: 2.5947 - val_loss: 7.0855 - val_mse: 7.0855 - val_mae: 1.1527 - val_root_mean_squared_error: 2.6619\n",
            "Epoch 50/50\n",
            "5/5 [==============================] - 1s 287ms/step - loss: 6.7198 - mse: 6.7198 - mae: 1.1110 - root_mean_squared_error: 2.5923 - val_loss: 7.0474 - val_mse: 7.0474 - val_mae: 1.1436 - val_root_mean_squared_error: 2.6547\n",
            "(151, 1319040)\n",
            "0.41695835371234624 1.123759416557998 6.8144532299599 1.5561105153454222\n"
          ]
        },
        {
          "data": {
            "image/png": "[encoded data removed]",
            "text/plain": [
              "<Figure size 576x288 with 1 Axes>"
            ]
          },
          "metadata": {
            "needs_background": "light"
          },
          "output_type": "display_data"
        },
        {
          "data": {
            "image/png": "[encoded data removed]",
            "text/plain": [
              "<Figure size 576x288 with 1 Axes>"
            ]
          },
          "metadata": {
            "needs_background": "light"
          },
          "output_type": "display_data"
        },
        {
          "data": {
            "image/png": "[encoded data removed]",
            "text/plain": [
              "<Figure size 576x288 with 1 Axes>"
            ]
          },
          "metadata": {
            "needs_background": "light"
          },
          "output_type": "display_data"
        },
        {
          "name": "stdout",
          "output_type": "stream",
          "text": [
            "Model: \"model\"\n",
            "_________________________________________________________________\n",
            " Layer (type)                Output Shape              Param #   \n",
            "=================================================================\n",
            " input_1 (InputLayer)        [(None, 5, 720, 1832)]    0         \n",
            "                                                                 \n",
            " conv2d (Conv2D)             (None, 4, 719, 64)        469056    \n",
            "                                                                 \n",
            " max_pooling2d (MaxPooling2D  (None, 2, 360, 64)       0         \n",
            " )                                                               \n",
            "                                                                 \n",
            " conv2d_1 (Conv2D)           (None, 1, 359, 64)        16448     \n",
            "                                                                 \n",
            " max_pooling2d_1 (MaxPooling  (None, 1, 180, 64)       0         \n",
            " 2D)                                                             \n",
            "                                                                 \n",
            " conv2d_2 (Conv2D)           (None, 1, 180, 64)        16448     \n",
            "                                                                 \n",
            " max_pooling2d_2 (MaxPooling  (None, 1, 90, 64)        0         \n",
            " 2D)                                                             \n",
            "                                                                 \n",
            " dropout (Dropout)           (None, 1, 90, 64)         0         \n",
            "                                                                 \n",
            " flatten (Flatten)           (None, 5760)              0         \n",
            "                                                                 \n",
            " reshape (Reshape)           (None, 90, 64)            0         \n",
            "                                                                 \n",
            " gru (GRU)                   (None, 90, 32)            9408      \n",
            "                                                                 \n",
            " gru_1 (GRU)                 (None, 16)                2400      \n",
            "                                                                 \n",
            " dense (Dense)               (None, 50)                850       \n",
            "                                                                 \n",
            " dense_1 (Dense)             (None, 1319040)           67271040  \n",
            "                                                                 \n",
            "=================================================================\n",
            "Total params: 67,785,650\n",
            "Trainable params: 67,785,650\n",
            "Non-trainable params: 0\n",
            "_________________________________________________________________\n"
          ]
        }
      ],
      "source": [
        "n_steps = 5\n",
        "X, y = split_sequences(X, n_steps)\n",
        "X_train,X_rem,y_train,y_rem=train_test_split(X,y,test_size=0.2,random_state=42)\n",
        "X_val, X_test, y_val, y_test = train_test_split(X_rem,y_rem, test_size=0.5)\n",
        "print(X_train.shape, y_train.shape)\n",
        "a, b = X, y\n",
        "\n",
        "model_input = Input(shape=(n_steps, X.shape[2], X.shape[3]))\n",
        "x = Conv2D(filters=64, kernel_size=2, activation='relu')(model_input)\n",
        "x = MaxPooling2D(pool_size=2,padding='same')(x)\n",
        "x = Conv2D(filters=64, kernel_size=2, activation='relu')(x)\n",
        "x = MaxPooling2D(pool_size=2,padding='same')(x)\n",
        "x = Conv2D(filters=64, kernel_size=2, activation='relu',padding='same')(x)\n",
        "x = MaxPooling2D(pool_size=2,padding='same')(x)\n",
        "x = Dropout(0.2)(x)\n",
        "x = Flatten()(x)\n",
        "x = Reshape((90,64))(x)\n",
        "x = GRU(32,return_sequences=True)(x)\n",
        "x = GRU(16)(x)\n",
        "x = Dense(50, activation='relu')(x)\n",
        "\n",
        "output = Dense(X.shape[2]*X.shape[3])(x)\n",
        "print(output.get_shape())\n",
        "model = Model(inputs=model_input, outputs=output)\n",
        "model.load_weights(\"step5_2.h5\") #Loading Weights of CNN-Fine Tuned Model\n",
        "model.compile(optimizer='adam', loss='mse', metrics=['mse', 'mae', RootMeanSquaredError()])\n",
        "print(X.shape)\n",
        "print(y.shape)\n",
        "y = y.reshape((y.shape[0], y.shape[1]*y.shape[2]))\n",
        "y_val = y_val.reshape((y_val.shape[0], y_val.shape[1]*y_val.shape[2]))\n",
        "y_train = y_train.reshape((y_train.shape[0], y_train.shape[1]*y_train.shape[2]))\n",
        "\n",
        "# Fitting CNN-GRU Model for the New Orleans Data\n",
        "history = model.fit(X_train, y_train,batch_size=32, epochs=50, verbose=1, validation_data =(X_val,y_val))\n",
        "\n",
        "yhat = model.predict(X_train, verbose=0)\n",
        "yhat = numpy.around(yhat, decimals=2)\n",
        "print(yhat.shape)\n",
        "\n",
        "r2 = r2_score(y_train, yhat)\n",
        "mae=mean_absolute_error(y_train, yhat)\n",
        "mse=mean_squared_error(y_train, yhat)\n",
        "rmse=mean_squared_error(y_train, yhat, squared=False)\n",
        "print(r2,mae,mse,rmse)\n",
        "\n",
        "plt.figure(figsize=(8,4))\n",
        "plt.plot(history.history['mse'])\n",
        "plt.xlabel('Epochs')\n",
        "plt.ylabel('mse')\n",
        "plt.show()\n",
        "plt.figure(figsize=(8,4))\n",
        "plt.plot(history.history['mae'],'r')\n",
        "plt.xlabel('Epochs')\n",
        "plt.ylabel('mae')\n",
        "plt.show()\n",
        "plt.figure(figsize=(8,4))\n",
        "plt.plot(history.history['root_mean_squared_error'],'g')\n",
        "plt.xlabel('Epochs')\n",
        "plt.ylabel('rmse')\n",
        "plt.show()\n",
        "model.summary()"
      ]
    },
    {
      "cell_type": "code",
      "execution_count": null,
      "metadata": {
        "id": "OgSBP44lPSPU"
      },
      "outputs": [],
      "source": [
        "model.save(\"step5_3.h5\")"
      ]
    }
  ],
  "metadata": {
    "accelerator": "GPU",
    "colab": {
      "machine_shape": "hm",
      "provenance": []
    },
    "gpuClass": "premium",
    "kernelspec": {
      "display_name": "Python 3",
      "name": "python3"
    },
    "language_info": {
      "name": "python"
    }
  },
  "nbformat": 4,
  "nbformat_minor": 0
}
